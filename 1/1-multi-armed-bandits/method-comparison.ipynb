{
 "cells": [
  {
   "cell_type": "code",
   "execution_count": 6,
   "metadata": {},
   "outputs": [],
   "source": [
    "import numpy as np\n",
    "import matplotlib.pyplot as plt"
   ]
  },
  {
   "cell_type": "code",
   "execution_count": 152,
   "metadata": {},
   "outputs": [],
   "source": [
    "games = 2000\n",
    "steps = 1000"
   ]
  },
  {
   "cell_type": "code",
   "execution_count": 179,
   "metadata": {},
   "outputs": [],
   "source": [
    "def push_lever(mean_, std):\n",
    "    return np.random.normal(mean_, std)\n",
    "\n",
    "def calculate_expected_reward(mean_, std, g, i, Q_a):\n",
    "    R = push_lever(mean_, std)\n",
    "    Q_a[g, i, 0] += R\n",
    "    Q_a[g, i, 1] += 1\n",
    "    Q_a[g, i, 2] = Q_a[g, i, 0] / Q_a[g, i, 1]\n",
    "    \n",
    "    return R, Q_a"
   ]
  },
  {
   "cell_type": "code",
   "execution_count": 203,
   "metadata": {},
   "outputs": [],
   "source": [
    "def epsilon_greedy(steps, epsilon, games=1):\n",
    "    means = np.random.normal(0, 1, 10)\n",
    "    print(f'Epsilon {epsilon}')\n",
    "    R_t = np.zeros((games, steps))\n",
    "    Q_a = np.zeros((games, steps, 3))\n",
    "    for g in range(games):\n",
    "        best = 0\n",
    "        best_i = 0\n",
    "        s = 0\n",
    "        for i, mean_ in enumerate(means):\n",
    "            R, Q_a = calculate_expected_reward(mean_, 1, g, i, Q_a)\n",
    "            if Q_a[g, i, 2] > best:\n",
    "                best = Q_a[g, i, 2]\n",
    "                best_i = i\n",
    "                \n",
    "            s += R\n",
    "            R_t[g, i] = s / (i + 1)\n",
    "        \n",
    "        for step in range(means.size, steps):\n",
    "            pick_best = np.random.choice([True, False], p=[1 - epsilon, epsilon])\n",
    "            if pick_best:\n",
    "                R, Q_a = calculate_expected_reward(best, 1, g, best_i, Q_a)\n",
    "            else:\n",
    "                new_i = np.random.choice(np.arange(means.size))\n",
    "                new = means[new_i]\n",
    "                R, Q_a = calculate_expected_reward(new, 1, g, new_i, Q_a)\n",
    "                if Q_a[g, i, 2] > best:\n",
    "                    best = Q_a[g, i, 2]\n",
    "                    best_i = new_i\n",
    "            s += R\n",
    "            if step == steps - 1:\n",
    "                # print(f'{R}')\n",
    "                pass\n",
    "            R_t[g, step] = s / (step + 1)\n",
    "    \n",
    "    print('END')\n",
    "    return R_t.mean(0)"
   ]
  },
  {
   "cell_type": "code",
   "execution_count": 206,
   "metadata": {},
   "outputs": [
    {
     "name": "stdout",
     "output_type": "stream",
     "text": [
      "Epsilon 0\n",
      "END\n",
      "Epsilon 0.01\n",
      "END\n",
      "Epsilon 0.1\n",
      "END\n",
      "Epsilon 1\n",
      "END\n"
     ]
    },
    {
     "data": {
      "text/plain": [
       "<matplotlib.legend.Legend at 0x1de923c7ac0>"
      ]
     },
     "execution_count": 206,
     "metadata": {},
     "output_type": "execute_result"
    },
    {
     "data": {
      "image/png": "[encoded data removed]",
      "text/plain": [
       "<Figure size 432x288 with 1 Axes>"
      ]
     },
     "metadata": {
      "needs_background": "light"
     },
     "output_type": "display_data"
    }
   ],
   "source": [
    "epsilons = [0, 0.01, 0.1, 1]\n",
    "x = []\n",
    "\n",
    "for i, e in enumerate(epsilons):\n",
    "    x.append(epsilon_greedy(steps, e, games=100))\n",
    "    plt.scatter(range(steps), x[i], label=f'eps = {e}', s=6)\n",
    "plt.legend()"
   ]
  },
  {
   "cell_type": "code",
   "execution_count": null,
   "metadata": {},
   "outputs": [],
   "source": []
  }
 ],
 "metadata": {
  "interpreter": {
   "hash": "389b5251fb29fbdcf5e0d96379d6e9627926ce1fa66bc7f8e4c4eab5a732ef9b"
  },
  "kernelspec": {
   "display_name": "Python 3.9.5 64-bit",
   "name": "python3"
  },
  "language_info": {
   "codemirror_mode": {
    "name": "ipython",
    "version": 3
   },
   "file_extension": ".py",
   "mimetype": "text/x-python",
   "name": "python",
   "nbconvert_exporter": "python",
   "pygments_lexer": "ipython3",
   "version": "3.9.5"
  },
  "orig_nbformat": 4
 },
 "nbformat": 4,
 "nbformat_minor": 2
}
