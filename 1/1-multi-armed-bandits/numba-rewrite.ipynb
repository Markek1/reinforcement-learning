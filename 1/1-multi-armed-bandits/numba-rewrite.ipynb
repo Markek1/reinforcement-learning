{
 "cells": [
  {
   "cell_type": "code",
   "execution_count": 1,
   "metadata": {},
   "outputs": [],
   "source": [
    "import numpy as np\n",
    "import matplotlib.pyplot as plt\n",
    "from tqdm.notebook import tqdm\n",
    "from numba import njit, prange"
   ]
  },
  {
   "cell_type": "code",
   "execution_count": 2,
   "metadata": {},
   "outputs": [],
   "source": [
    "@njit\n",
    "def bandit_changing_means(means, epsilon, steps, std=1, alpha=0):\n",
    "    k = means.size\n",
    "    Q = np.zeros(k)\n",
    "    N = np.zeros(k)\n",
    "    \n",
    "    step_result = np.zeros(steps)\n",
    "    \n",
    "    for step in prange(steps):\n",
    "        pick_best = False if np.random.uniform(0, 1) < epsilon else True\n",
    "        A = np.argmax(Q) if pick_best else np.random.randint(0, k)\n",
    "        R = np.random.normal(means[A], std)\n",
    "        N[A] += 1\n",
    "        if alpha:\n",
    "            Q[A] += alpha * (R - Q[A])\n",
    "        else:\n",
    "            Q[A] += (R - Q[A]) / N[A]\n",
    "        step_result[step] = np.sum(Q * N) / np.sum(N)\n",
    "        means += np.random.normal(0, 0.01, k)\n",
    "    \n",
    "    return step_result"
   ]
  },
  {
   "cell_type": "code",
   "execution_count": 3,
   "metadata": {},
   "outputs": [
    {
     "data": {
      "application/vnd.jupyter.widget-view+json": {
       "model_id": "77f864c93b0041919a3532185f245f0b",
       "version_major": 2,
       "version_minor": 0
      },
      "text/plain": [
       "  0%|          | 0/100 [00:00<?, ?it/s]"
      ]
     },
     "metadata": {},
     "output_type": "display_data"
    },
    {
     "data": {
      "text/plain": [
       "<matplotlib.legend.Legend at 0x2235570aeb0>"
      ]
     },
     "execution_count": 3,
     "metadata": {},
     "output_type": "execute_result"
    },
    {
     "data": {
      "image/png": "[encoded data removed]",
      "text/plain": [
       "<Figure size 432x288 with 1 Axes>"
      ]
     },
     "metadata": {
      "needs_background": "light"
     },
     "output_type": "display_data"
    }
   ],
   "source": [
    "steps = 10_000\n",
    "games = 100\n",
    "alphas = [0, 0.1, 0.2]\n",
    "y_values = np.zeros((len(alphas), steps))\n",
    "\n",
    "for g in tqdm(range(1, games + 1)):\n",
    "    means = np.zeros(10)\n",
    "    for i_a, a in enumerate(alphas):\n",
    "        y_values[i_a] += (bandit_changing_means(means, 0.1, steps, alpha=a) - y_values[i_a]) / g\n",
    "\n",
    "for i_a, a in enumerate(alphas):\n",
    "    plt.scatter(range(steps), y_values[i_a], label=f'a={a}', s=2)\n",
    "\n",
    "plt.legend()"
   ]
  },
  {
   "cell_type": "code",
   "execution_count": null,
   "metadata": {},
   "outputs": [],
   "source": []
  }
 ],
 "metadata": {
  "interpreter": {
   "hash": "389b5251fb29fbdcf5e0d96379d6e9627926ce1fa66bc7f8e4c4eab5a732ef9b"
  },
  "kernelspec": {
   "display_name": "Python 3.9.5 64-bit",
   "name": "python3"
  },
  "language_info": {
   "codemirror_mode": {
    "name": "ipython",
    "version": 3
   },
   "file_extension": ".py",
   "mimetype": "text/x-python",
   "name": "python",
   "nbconvert_exporter": "python",
   "pygments_lexer": "ipython3",
   "version": "3.9.5"
  },
  "orig_nbformat": 4
 },
 "nbformat": 4,
 "nbformat_minor": 2
}
