{
 "cells": [
  {
   "cell_type": "code",
   "execution_count": 105,
   "metadata": {},
   "outputs": [],
   "source": [
    "import numpy as np\n",
    "import matplotlib.pyplot as plt\n",
    "from tqdm.notebook import tqdm"
   ]
  },
  {
   "cell_type": "code",
   "execution_count": 112,
   "metadata": {},
   "outputs": [],
   "source": [
    "def bandit(means, epsilon, steps, std=1):\n",
    "    k = means.size\n",
    "    Q = np.zeros(k)\n",
    "    N = np.zeros(k)\n",
    "    \n",
    "    step_result = np.zeros(steps)\n",
    "    \n",
    "    for step in range(steps):\n",
    "        pick_best = np.random.choice([True, False], p=[1 - epsilon, epsilon])\n",
    "        A = np.argmax(Q) if pick_best else np.random.choice(range(k))\n",
    "        R = np.random.normal(means[A], std)\n",
    "        N[A] += 1\n",
    "        Q[A] += (R - Q[A]) / N[A]\n",
    "        step_result[step] = np.sum(Q * N) / np.sum(N)\n",
    "    \n",
    "    return step_result"
   ]
  },
  {
   "cell_type": "code",
   "execution_count": 113,
   "metadata": {},
   "outputs": [],
   "source": [
    "steps = 1000\n",
    "games = 200\n",
    "epsilons = [0, 0.01, 0.1, 0.2]"
   ]
  },
  {
   "cell_type": "code",
   "execution_count": 114,
   "metadata": {},
   "outputs": [
    {
     "data": {
      "application/vnd.jupyter.widget-view+json": {
       "model_id": "e75fa259e0e24cc1b6e1dee73dd43906",
       "version_major": 2,
       "version_minor": 0
      },
      "text/plain": [
       "  0%|          | 0/200 [00:00<?, ?it/s]"
      ]
     },
     "metadata": {},
     "output_type": "display_data"
    },
    {
     "data": {
      "text/plain": [
       "<matplotlib.legend.Legend at 0x22341a1f2b0>"
      ]
     },
     "execution_count": 114,
     "metadata": {},
     "output_type": "execute_result"
    },
    {
     "data": {
      "image/png": "[encoded data removed]",
      "text/plain": [
       "<Figure size 432x288 with 1 Axes>"
      ]
     },
     "metadata": {
      "needs_background": "light"
     },
     "output_type": "display_data"
    }
   ],
   "source": [
    "y_values = np.empty((len(epsilons), steps))\n",
    "\n",
    "for g in tqdm(range(1, games + 1)):\n",
    "    for i_e, e in enumerate(epsilons):\n",
    "        means = np.random.normal(0, 1, 10)\n",
    "        y_values[i_e] = (y_values[i_e] * (g - 1) + bandit(means, e, steps)) / g\n",
    "\n",
    "for e, y in zip(epsilons, y_values):\n",
    "    plt.scatter(range(steps), y, label=f'epsilon = {e}', s=6)\n",
    "\n",
    "plt.legend()"
   ]
  },
  {
   "cell_type": "code",
   "execution_count": null,
   "metadata": {},
   "outputs": [],
   "source": []
  }
 ],
 "metadata": {
  "interpreter": {
   "hash": "389b5251fb29fbdcf5e0d96379d6e9627926ce1fa66bc7f8e4c4eab5a732ef9b"
  },
  "kernelspec": {
   "display_name": "Python 3.9.5 64-bit",
   "name": "python3"
  },
  "language_info": {
   "codemirror_mode": {
    "name": "ipython",
    "version": 3
   },
   "file_extension": ".py",
   "mimetype": "text/x-python",
   "name": "python",
   "nbconvert_exporter": "python",
   "pygments_lexer": "ipython3",
   "version": "3.9.5"
  },
  "orig_nbformat": 4
 },
 "nbformat": 4,
 "nbformat_minor": 2
}
