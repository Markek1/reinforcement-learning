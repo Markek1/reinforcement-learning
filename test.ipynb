{
 "cells": [
  {
   "cell_type": "code",
   "execution_count": 4,
   "metadata": {},
   "outputs": [],
   "source": [
    "from numba import njit, prange\n",
    "from time import sleep"
   ]
  },
  {
   "cell_type": "code",
   "execution_count": 46,
   "metadata": {},
   "outputs": [],
   "source": [
    "for _ in range(100000000):\n",
    "    x = 1"
   ]
  },
  {
   "cell_type": "code",
   "execution_count": 49,
   "metadata": {},
   "outputs": [],
   "source": [
    "@njit(parallel=True, nogil=True)\n",
    "def parallel_thing():\n",
    "    for i in prange(20):\n",
    "        print('start ',  i, '\\n')\n",
    "        for _ in range(100000000):\n",
    "            x = 1\n",
    "        print('end ', i, '\\n')"
   ]
  },
  {
   "cell_type": "code",
   "execution_count": 50,
   "metadata": {},
   "outputs": [
    {
     "name": "stdout",
     "output_type": "stream",
     "text": [
      "start start  16start start  12 \n",
      "\n",
      "end  12 \n",
      "\n",
      "start  3 \n",
      "start  14 \n",
      "\n",
      "end  14 \n",
      " start  13 \n",
      "\n",
      "\n",
      "start  15 \n",
      "end  13 \n",
      "\n",
      "\n",
      "end  15 \n",
      " 0 \n",
      "start  6 \n",
      "\n",
      "end  6 \n",
      "\n",
      "start  7 \n",
      "\n",
      "end  7 \n",
      "\n",
      "start  8 \n",
      "\n",
      "end  8 \n",
      "end  3 \n",
      "\n",
      "start  4 \n",
      "\n",
      "end  4 \n",
      "\n",
      "start  5 \n",
      "\n",
      "end \n",
      "end  0 \n",
      "\n",
      " \n",
      " \n",
      "\n",
      "9 \n",
      "\n",
      "end  9 start  1 \n",
      "\n",
      "end  16 \n",
      "\n",
      "start \n",
      "start  18 \n",
      "\n",
      " end  185 \n",
      "\n",
      "\n",
      "start  10 \n",
      "\n",
      "end  10 \n",
      "\n",
      "start  11 \n",
      " \n",
      "\n",
      "start  19 \n",
      "\n",
      "end  19 17 \n",
      "\n",
      "end  17 \n",
      "\n",
      "\n",
      "end \n",
      "\n",
      "\n",
      "end  1 11 \n",
      "\n",
      "\n",
      " \n",
      "\n",
      "start  2 \n",
      "\n",
      "end  2 \n",
      "\n"
     ]
    }
   ],
   "source": [
    "parallel_thing()"
   ]
  },
  {
   "cell_type": "code",
   "execution_count": null,
   "metadata": {},
   "outputs": [],
   "source": []
  }
 ],
 "metadata": {
  "interpreter": {
   "hash": "389b5251fb29fbdcf5e0d96379d6e9627926ce1fa66bc7f8e4c4eab5a732ef9b"
  },
  "kernelspec": {
   "display_name": "Python 3.9.5 64-bit",
   "name": "python3"
  },
  "language_info": {
   "codemirror_mode": {
    "name": "ipython",
    "version": 3
   },
   "file_extension": ".py",
   "mimetype": "text/x-python",
   "name": "python",
   "nbconvert_exporter": "python",
   "pygments_lexer": "ipython3",
   "version": "3.9.5"
  },
  "orig_nbformat": 4
 },
 "nbformat": 4,
 "nbformat_minor": 2
}
